{
 "cells": [
  {
   "cell_type": "markdown",
   "metadata": {},
   "source": [
    "# My summary"
   ]
  },
  {
   "cell_type": "markdown",
   "metadata": {},
   "source": [
    "## Getting satarted"
   ]
  },
  {
   "cell_type": "markdown",
   "metadata": {},
   "source": [
    "Deep learning (DL) has revolutionized industry after industry. It was once famously\n",
    "described by Andrew Ng on Twitter:\n",
    "Artificial Intelligence is the new electricity!"
   ]
  },
  {
   "cell_type": "markdown",
   "metadata": {},
   "source": [
    "Electricity transformed countless industries; artificial intelligence (AI) will now do the\n",
    "same."
   ]
  },
  {
   "cell_type": "markdown",
   "metadata": {},
   "source": [
    "Traditional ML algorithms use handwritten feature extraction to train algorithms, while DL\n",
    "algorithms use modern techniques to extract these features in an automatic fashion."
   ]
  },
  {
   "cell_type": "markdown",
   "metadata": {},
   "source": [
    "The use of DL has grown tremendously in the last few years with the rise of GPUs, big data,\n",
    "cloud providers such as Amazon Web Services (AWS) and Google Cloud, and frameworks\n",
    "such as Torch, TensorFlow, Caffe, and PyTorch. In addition to this, large companies share\n",
    "algorithms trained on huge datasets, thus helping startups to build state-of-the-art systems\n",
    "on several use cases with little effort."
   ]
  },
  {
   "cell_type": "markdown",
   "metadata": {},
   "source": [
    "Why has DL became so popular now? Some of the crucial reasons are as follows:\n",
    "    - Hardware availability\n",
    "    - Data and algorithms\n",
    "    - Deep learning frameworks"
   ]
  },
  {
   "cell_type": "markdown",
   "metadata": {},
   "source": [
    "### Hardware availability"
   ]
  },
  {
   "cell_type": "markdown",
   "metadata": {},
   "source": [
    "Deep learning requires complex mathematical operations to be performed on millions,\n",
    "sometimes billions, of parameters. Existing CPUs take a long time to perform these kinds of\n",
    "operations, although this has improved over the last several years. A new kind of hardware\n",
    "called a graphics processing unit (GPU) has completed these huge mathematical\n",
    "operations, such as matrix multiplications, orders of magnitude faster."
   ]
  },
  {
   "cell_type": "markdown",
   "metadata": {},
   "source": [
    "GPUs were initially built for the gaming industry by companies such as Nvidia and AMD.\n",
    "It turned out that this hardware is extremely efficient, not only for rendering high quality\n",
    "video games, but also to speed up the DL algorithms. One recent GPU from Nvidia, the\n",
    "1080ti, takes a few days to build an image-classification system on top of an ImageNet\n",
    "dataset, which previously could have taken around a month."
   ]
  },
  {
   "cell_type": "markdown",
   "metadata": {},
   "source": [
    "### Data and algorithms"
   ]
  },
  {
   "cell_type": "markdown",
   "metadata": {},
   "source": [
    "Data is the most important ingredient for the success of deep learning. Due to the wide\n",
    "adoption of the internet and the growing use of smartphones, several companies, such as\n",
    "Facebook and Google, have been able to collect a lot of data in various formats, particularly\n",
    "text, images, videos, and audio. In the field of computer vision, ImageNet competitions\n",
    "have played a huge role in providing datasets of 1.4 million images in 1,000 categories."
   ]
  },
  {
   "cell_type": "markdown",
   "metadata": {},
   "source": [
    "These categories are hand-annotated and every year hundreds of teams compete. Some of\n",
    "the algorithms that were successful in the competition are VGG, ResNet, Inception,\n",
    "DenseNet, and many more. These algorithms are used today in industries to solve various\n",
    "computer vision problems. Some of the other popular datasets that are often used in the\n",
    "deep learning space to benchmark various algorithms are as follows:\n",
    "- MNIST\n",
    "- COCO dataset\n",
    "- CIFAR\n",
    "- The Street View House Numbers\n",
    "- PASCAL VOC\n",
    "- Wikipedia dump\n",
    "- 20 Newsgroups\n",
    "- Penn Treebank\n",
    "- Kaggle"
   ]
  },
  {
   "cell_type": "markdown",
   "metadata": {},
   "source": [
    "### Deep learning frameworks"
   ]
  },
  {
   "cell_type": "markdown",
   "metadata": {},
   "source": [
    "In the earlier days, people needed to have expertise in C++ and CUDA to implement DL\n",
    "algorithms. With a lot of organizations now open sourcing their deep learning frameworks,\n",
    "people with knowledge of a scripting language, such as Python, can start building and\n",
    "using DL algorithms. Some of the popular deep learning frameworks used today in the\n",
    "industry are TensorFlow, Caffe2, Keras, Theano, PyTorch, Chainer, DyNet, MXNet, and\n",
    "CNTK."
   ]
  },
  {
   "cell_type": "markdown",
   "metadata": {},
   "source": [
    "The adoption of deep learning would not have been this huge if it had not been for these\n",
    "frameworks. They abstract away a lot of underlying complications and allow us to focus on\n",
    "the applications. We are still in the early days of DL where, with a lot of research,\n",
    "breakthroughs are happening every day across companies and organizations. As a result of\n",
    "this, various frameworks have their own pros and cons."
   ]
  },
  {
   "cell_type": "markdown",
   "metadata": {},
   "source": [
    "#### PyTorch"
   ]
  },
  {
   "cell_type": "markdown",
   "metadata": {},
   "source": [
    "PyTorch, and most of the other deep learning frameworks, can be used for two different things:\n",
    "- Replacing NumPy-like operations with GPU-accelerated operations\n",
    "- Building deep neural networks"
   ]
  },
  {
   "cell_type": "markdown",
   "metadata": {},
   "source": [
    "What makes PyTorch increasingly popular is its ease of use and simplicity. Unlike most\n",
    "other popular deep learning frameworks, which use static computation graphs, PyTorch\n",
    "uses dynamic computation, which allows greater flexibility in building complex\n",
    "architectures."
   ]
  },
  {
   "cell_type": "markdown",
   "metadata": {},
   "source": [
    "PyTorch extensively uses Python concepts, such as classes, structures, and conditional\n",
    "loops, allowing us to build DL algorithms in a pure object-oriented fashion. Most of the\n",
    "other popular frameworks bring their own programming style, sometimes making it\n",
    "complex to write new algorithms and it does not support intuitive debugging. In the later\n",
    "chapters, we will discuss computation graphs in detail."
   ]
  },
  {
   "cell_type": "markdown",
   "metadata": {},
   "source": [
    "As PyTorch was primarily built for research, it is not recommended for production usage in\n",
    "certain scenarios where latency requirements are very high. However, this is changing with\n",
    "a new project called Open Neural Network Exchange (ONNX), which\n",
    "focuses on deploying a model developed on PyTorch to a platform like Caffe2 that is\n",
    "production-ready. At the time of writing, it is too early to say much about this project as it\n",
    "has only just been launched. The project is backed by Facebook and Microsoft."
   ]
  },
  {
   "cell_type": "markdown",
   "metadata": {},
   "source": [
    "### Installing PyTorch"
   ]
  },
  {
   "cell_type": "markdown",
   "metadata": {},
   "source": [
    "PyTorch is available as a Python package and you can either use pip, or conda, to build it or you can build it from source. The recommended approach for this book is to use the Anaconda Python 3 distribution. To install Anaconda, please refer to the Anaconda official\n",
    "documentation at https://conda.io/docs/user-guide/install/index.html. All the examples will be available as Jupyter Notebooks in the book's GitHub repository. I would strongly recommend you use Jupyter Notebook, since it allows you to experiment interactively. If you already have Anaconda Python installed, then you can proceed with the following steps for PyTorch installation."
   ]
  },
  {
   "cell_type": "code",
   "execution_count": null,
   "metadata": {},
   "outputs": [],
   "source": []
  }
 ],
 "metadata": {
  "kernelspec": {
   "display_name": "Python 3",
   "language": "python",
   "name": "python3"
  },
  "language_info": {
   "codemirror_mode": {
    "name": "ipython",
    "version": 3
   },
   "file_extension": ".py",
   "mimetype": "text/x-python",
   "name": "python",
   "nbconvert_exporter": "python",
   "pygments_lexer": "ipython3",
   "version": "3.7.1"
  }
 },
 "nbformat": 4,
 "nbformat_minor": 2
}
